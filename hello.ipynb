{
 "cells": [
  {
   "cell_type": "code",
   "execution_count": null,
   "id": "422ffa1d-9562-4c07-8f8e-89510af23a9c",
   "metadata": {},
   "outputs": [],
   "source": [
    "print(\"Hello\")\n"
   ]
  },
  {
   "cell_type": "code",
   "execution_count": null,
   "id": "142c7835-06b4-4245-accc-db5ddc6b2009",
   "metadata": {},
   "outputs": [],
   "source": [
    "import numpy as np\n",
    "import pandas as pd\n",
    "import matplotlib as mpl\n",
    "import matplotlib.pyplot as plt"
   ]
  },
  {
   "cell_type": "code",
   "execution_count": null,
   "id": "56bbe10e-4b0a-4362-9dcc-c9f7261ce48c",
   "metadata": {},
   "outputs": [],
   "source": [
    "rain =pd.read_csv(\"C:\\\\Users\\\\Asus\\\\Documents\\\\A MINI PROJECT\\\\Bengaluru 2009-2019\\\\bengaluru.csv\")\n",
    "print(rain.shape)"
   ]
  },
  {
   "cell_type": "code",
   "execution_count": null,
   "id": "25f91755-de87-45d1-aa6d-6bb7d40d5a41",
   "metadata": {},
   "outputs": [],
   "source": [
    "#means we have 96432 rows and 25 columns\n",
    "rain.head(5)"
   ]
  },
  {
   "cell_type": "code",
   "execution_count": null,
   "id": "0488d443-cf01-4f4f-b095-d1c01895dd93",
   "metadata": {},
   "outputs": [],
   "source": [
    "#checking for missing data\n",
    "#how many values are null in which column\n",
    "NAs=pd.concat([rain.isnull().sum()], axis=1,keys=[\"Rain\"])\n",
    "NAs[NAs.sum(axis=1)>0]"
   ]
  },
  {
   "cell_type": "code",
   "execution_count": null,
   "id": "481ac618-1e12-45c8-9ef1-1008a8c28a78",
   "metadata": {},
   "outputs": [],
   "source": [
    "rain.tail()"
   ]
  },
  {
   "cell_type": "code",
   "execution_count": null,
   "id": "4136b500-5538-4ef0-afa1-707c294556e2",
   "metadata": {},
   "outputs": [],
   "source": []
  },
  {
   "cell_type": "code",
   "execution_count": null,
   "id": "99ebda03-1373-4a81-8df8-d58d4d67181a",
   "metadata": {},
   "outputs": [],
   "source": []
  },
  {
   "cell_type": "code",
   "execution_count": null,
   "id": "e20d8df9-afb2-4d48-a201-243df3601e96",
   "metadata": {},
   "outputs": [],
   "source": []
  },
  {
   "cell_type": "code",
   "execution_count": null,
   "id": "5e815a43-382e-4229-aa78-4322e3ea8dbb",
   "metadata": {},
   "outputs": [],
   "source": []
  },
  {
   "cell_type": "code",
   "execution_count": null,
   "id": "6fc2123b-9341-48be-ac95-a0530a6e5bcb",
   "metadata": {},
   "outputs": [],
   "source": []
  }
 ],
 "metadata": {
  "kernelspec": {
   "display_name": "Python 3 (ipykernel)",
   "language": "python",
   "name": "python3"
  },
  "language_info": {
   "codemirror_mode": {
    "name": "ipython",
    "version": 3
   },
   "file_extension": ".py",
   "mimetype": "text/x-python",
   "name": "python",
   "nbconvert_exporter": "python",
   "pygments_lexer": "ipython3",
   "version": "3.11.3"
  }
 },
 "nbformat": 4,
 "nbformat_minor": 5
}
